{
 "cells": [
  {
   "cell_type": "markdown",
   "id": "0d6bd813",
   "metadata": {},
   "source": [
    "### Tarea 2 - Repaso de Conceptos de Programación             \n",
    "<img src=\"https://upload.wikimedia.org/wikipedia/commons/f/ff/Logo-Universidad-Andres-Bello-2013-Nuevo.jpg\" width=\"150\" align=\"right\">"
   ]
  },
  {
   "cell_type": "markdown",
   "id": "49dfffbf",
   "metadata": {},
   "source": [
    "### Nombre: Juan Carlos Mérida"
   ]
  },
  {
   "cell_type": "markdown",
   "id": "ccab0e4e",
   "metadata": {},
   "source": [
    "### Objetivo: Realizar un análisis detallado de los datos recopilados durante el año 2023 sobre la satisfacción relacionada con reclamos efectuados a través del Servicio Nacional del Consumidor (SERNAC) en Chile."
   ]
  },
  {
   "cell_type": "markdown",
   "id": "3afd727a",
   "metadata": {},
   "source": [
    "### Desarollo:"
   ]
  },
  {
   "cell_type": "markdown",
   "id": "8942b526",
   "metadata": {},
   "source": [
    "#### En primer lugar cargamos las librerías necesarias para desarrollar la actividad:"
   ]
  },
  {
   "cell_type": "code",
   "execution_count": 1,
   "id": "a73e492f",
   "metadata": {},
   "outputs": [],
   "source": [
    "# Manipulación y análisis de datos:\n",
    "import pandas as pd\n",
    "import numpy as np\n",
    "# Para graficar:\n",
    "import matplotlib.pyplot as plt"
   ]
  },
  {
   "cell_type": "markdown",
   "id": "09289277",
   "metadata": {},
   "source": [
    "### 1.-\tDebe cargar el archivo en un DataFrame, desplegando la cantidad de registros (filas) y la cantidad de características presentes en la base de datos, debe eliminar del Da-taFrame las siguientes columnas: id, fecha_inicio, fecha_ultima_accion, ppei1, ppei2, ppei3 y ppei4, para aquellas columnas cuyos nombres vengan con espacios en blan-co al comienzo, debe quitar esos espacios y se requiere eliminar de los valores alma-cenados en la columna gen  el carácter punto con el cual vienen algunos géneros. (Ptj. 1)"
   ]
  },
  {
   "cell_type": "markdown",
   "id": "1ffa9d2f",
   "metadata": {},
   "source": [
    "#### Importamos nuestro archivo a analizar:"
   ]
  },
  {
   "cell_type": "code",
   "execution_count": 2,
   "id": "e17504d9",
   "metadata": {},
   "outputs": [
    {
     "data": {
      "text/html": [
       "<div>\n",
       "<style scoped>\n",
       "    .dataframe tbody tr th:only-of-type {\n",
       "        vertical-align: middle;\n",
       "    }\n",
       "\n",
       "    .dataframe tbody tr th {\n",
       "        vertical-align: top;\n",
       "    }\n",
       "\n",
       "    .dataframe thead th {\n",
       "        text-align: right;\n",
       "    }\n",
       "</style>\n",
       "<table border=\"1\" class=\"dataframe\">\n",
       "  <thead>\n",
       "    <tr style=\"text-align: right;\">\n",
       "      <th></th>\n",
       "      <th>id</th>\n",
       "      <th>fecha_inicio</th>\n",
       "      <th>mes_reclamo</th>\n",
       "      <th>fecha_ultima_accion</th>\n",
       "      <th>pex</th>\n",
       "      <th>p1a</th>\n",
       "      <th>p1b</th>\n",
       "      <th>pinst</th>\n",
       "      <th>ppei1</th>\n",
       "      <th>ppei2</th>\n",
       "      <th>...</th>\n",
       "      <th>nps</th>\n",
       "      <th>pgen</th>\n",
       "      <th>gen</th>\n",
       "      <th>region</th>\n",
       "      <th>educ</th>\n",
       "      <th>edad</th>\n",
       "      <th>ocup</th>\n",
       "      <th>ingreso</th>\n",
       "      <th>sitdisc</th>\n",
       "      <th>indg</th>\n",
       "    </tr>\n",
       "  </thead>\n",
       "  <tbody>\n",
       "    <tr>\n",
       "      <th>0</th>\n",
       "      <td>21554</td>\n",
       "      <td>2023-01-01 11:36:04</td>\n",
       "      <td>1</td>\n",
       "      <td>2023-01-01 11:46:34</td>\n",
       "      <td>5</td>\n",
       "      <td>5</td>\n",
       "      <td>4</td>\n",
       "      <td>5</td>\n",
       "      <td>NaN</td>\n",
       "      <td>NaN</td>\n",
       "      <td>...</td>\n",
       "      <td>5</td>\n",
       "      <td>5</td>\n",
       "      <td>Masculino.</td>\n",
       "      <td>Región de Valparaíso.</td>\n",
       "      <td>Superior universitaria completa.</td>\n",
       "      <td>65 años o más.</td>\n",
       "      <td>Jubilado/a</td>\n",
       "      <td>Entre $600.000 y $1.099.000</td>\n",
       "      <td>No</td>\n",
       "      <td>No</td>\n",
       "    </tr>\n",
       "    <tr>\n",
       "      <th>1</th>\n",
       "      <td>21556</td>\n",
       "      <td>2023-01-01 16:33:33</td>\n",
       "      <td>1</td>\n",
       "      <td>2023-01-01 16:35:40</td>\n",
       "      <td>1</td>\n",
       "      <td>1</td>\n",
       "      <td>1</td>\n",
       "      <td>1</td>\n",
       "      <td>NaN</td>\n",
       "      <td>NaN</td>\n",
       "      <td>...</td>\n",
       "      <td>1</td>\n",
       "      <td>5</td>\n",
       "      <td>Femenino.</td>\n",
       "      <td>Región de Valparaíso.</td>\n",
       "      <td>Superior universitaria completa.</td>\n",
       "      <td>30 a 44 años.</td>\n",
       "      <td>Asalariado/a</td>\n",
       "      <td>$1.100.000 o más</td>\n",
       "      <td>No</td>\n",
       "      <td>No</td>\n",
       "    </tr>\n",
       "    <tr>\n",
       "      <th>2</th>\n",
       "      <td>21558</td>\n",
       "      <td>2023-01-01 20:52:59</td>\n",
       "      <td>1</td>\n",
       "      <td>2023-01-01 20:56:38</td>\n",
       "      <td>4</td>\n",
       "      <td>2</td>\n",
       "      <td>2</td>\n",
       "      <td>2</td>\n",
       "      <td>NaN</td>\n",
       "      <td>NaN</td>\n",
       "      <td>...</td>\n",
       "      <td>5</td>\n",
       "      <td>2</td>\n",
       "      <td>Femenino.</td>\n",
       "      <td>Región Metropolitana de Santiago.</td>\n",
       "      <td>Superior universitaria completa.</td>\n",
       "      <td>45 a 64 años.</td>\n",
       "      <td>Asalariado/a</td>\n",
       "      <td>Menos de $300.000</td>\n",
       "      <td>No</td>\n",
       "      <td>No</td>\n",
       "    </tr>\n",
       "    <tr>\n",
       "      <th>3</th>\n",
       "      <td>21559</td>\n",
       "      <td>2023-01-01 22:24:17</td>\n",
       "      <td>1</td>\n",
       "      <td>2023-01-01 22:25:41</td>\n",
       "      <td>7</td>\n",
       "      <td>7</td>\n",
       "      <td>7</td>\n",
       "      <td>7</td>\n",
       "      <td>NaN</td>\n",
       "      <td>NaN</td>\n",
       "      <td>...</td>\n",
       "      <td>10</td>\n",
       "      <td>7</td>\n",
       "      <td>Femenino.</td>\n",
       "      <td>Región del Libertador General Bernardo O’Higgins.</td>\n",
       "      <td>Superior universitaria completa.</td>\n",
       "      <td>30 a 44 años.</td>\n",
       "      <td>Asalariado/a directivo/a o gerente</td>\n",
       "      <td>$1.100.000 o más</td>\n",
       "      <td>No</td>\n",
       "      <td>No</td>\n",
       "    </tr>\n",
       "    <tr>\n",
       "      <th>4</th>\n",
       "      <td>21560</td>\n",
       "      <td>2023-01-01 23:43:21</td>\n",
       "      <td>1</td>\n",
       "      <td>2023-01-01 23:45:25</td>\n",
       "      <td>7</td>\n",
       "      <td>1</td>\n",
       "      <td>1</td>\n",
       "      <td>7</td>\n",
       "      <td>NaN</td>\n",
       "      <td>NaN</td>\n",
       "      <td>...</td>\n",
       "      <td>10</td>\n",
       "      <td>7</td>\n",
       "      <td>Masculino.</td>\n",
       "      <td>Región de Antofagasta.</td>\n",
       "      <td>Superior universitaria completa.</td>\n",
       "      <td>30 a 44 años.</td>\n",
       "      <td>Asalariado/a</td>\n",
       "      <td>$1.100.000 o más</td>\n",
       "      <td>No</td>\n",
       "      <td>No</td>\n",
       "    </tr>\n",
       "  </tbody>\n",
       "</table>\n",
       "<p>5 rows × 27 columns</p>\n",
       "</div>"
      ],
      "text/plain": [
       "      id        fecha_inicio  mes_reclamo fecha_ultima_accion  pex  p1a  p1b  \\\n",
       "0  21554 2023-01-01 11:36:04            1 2023-01-01 11:46:34    5    5    4   \n",
       "1  21556 2023-01-01 16:33:33            1 2023-01-01 16:35:40    1    1    1   \n",
       "2  21558 2023-01-01 20:52:59            1 2023-01-01 20:56:38    4    2    2   \n",
       "3  21559 2023-01-01 22:24:17            1 2023-01-01 22:25:41    7    7    7   \n",
       "4  21560 2023-01-01 23:43:21            1 2023-01-01 23:45:25    7    1    1   \n",
       "\n",
       "   pinst  ppei1  ppei2  ...  nps  pgen         gen  \\\n",
       "0      5    NaN    NaN  ...    5     5  Masculino.   \n",
       "1      1    NaN    NaN  ...    1     5   Femenino.   \n",
       "2      2    NaN    NaN  ...    5     2   Femenino.   \n",
       "3      7    NaN    NaN  ...   10     7   Femenino.   \n",
       "4      7    NaN    NaN  ...   10     7  Masculino.   \n",
       "\n",
       "                                              region  \\\n",
       "0                              Región de Valparaíso.   \n",
       "1                              Región de Valparaíso.   \n",
       "2                  Región Metropolitana de Santiago.   \n",
       "3  Región del Libertador General Bernardo O’Higgins.   \n",
       "4                             Región de Antofagasta.   \n",
       "\n",
       "                               educ            edad  \\\n",
       "0  Superior universitaria completa.  65 años o más.   \n",
       "1  Superior universitaria completa.   30 a 44 años.   \n",
       "2  Superior universitaria completa.   45 a 64 años.   \n",
       "3  Superior universitaria completa.   30 a 44 años.   \n",
       "4  Superior universitaria completa.   30 a 44 años.   \n",
       "\n",
       "                                 ocup                      ingreso  sitdisc  \\\n",
       "0                          Jubilado/a  Entre $600.000 y $1.099.000       No   \n",
       "1                        Asalariado/a             $1.100.000 o más       No   \n",
       "2                        Asalariado/a            Menos de $300.000       No   \n",
       "3  Asalariado/a directivo/a o gerente             $1.100.000 o más       No   \n",
       "4                        Asalariado/a             $1.100.000 o más       No   \n",
       "\n",
       "  indg  \n",
       "0   No  \n",
       "1   No  \n",
       "2   No  \n",
       "3   No  \n",
       "4   No  \n",
       "\n",
       "[5 rows x 27 columns]"
      ]
     },
     "execution_count": 2,
     "metadata": {},
     "output_type": "execute_result"
    }
   ],
   "source": [
    "# Cargar los datos desde un archivo Excel en un DataFrame de pandas\n",
    "df = pd.read_excel(\"SERNAC_bbdd-satisfaccion-fin-reclamos.xlsx\")\n",
    "\n",
    "# Mostrar las primeras 5 filas del DataFrame para tener una vista previa de los datos cargados\n",
    "df.head()"
   ]
  },
  {
   "cell_type": "markdown",
   "id": "026e6d69",
   "metadata": {},
   "source": [
    "#### Contamos la cantidad de filas y columnas de nuestra base de datos:"
   ]
  },
  {
   "cell_type": "code",
   "execution_count": 3,
   "id": "f9e499aa",
   "metadata": {},
   "outputs": [
    {
     "name": "stdout",
     "output_type": "stream",
     "text": [
      "Número de filas: 4793\n",
      "Número de columnas: 27\n"
     ]
    }
   ],
   "source": [
    "# Obtener la cantidad de filas y columnas del DataFrame\n",
    "filas, columnas = df.shape\n",
    "\n",
    "# Imprimir el número de filas y columnas del DataFrame\n",
    "print(f\"Número de filas: {filas}\")\n",
    "print(f\"Número de columnas: {columnas}\")"
   ]
  },
  {
   "cell_type": "markdown",
   "id": "97507cbc",
   "metadata": {},
   "source": [
    "#### Eliminamos las columnas: id, fecha_inicio, fecha_ultima_accion, ppei1, ppei2, ppei3 y ppei4:"
   ]
  },
  {
   "cell_type": "code",
   "execution_count": 4,
   "id": "241b8709",
   "metadata": {},
   "outputs": [
    {
     "data": {
      "text/html": [
       "<div>\n",
       "<style scoped>\n",
       "    .dataframe tbody tr th:only-of-type {\n",
       "        vertical-align: middle;\n",
       "    }\n",
       "\n",
       "    .dataframe tbody tr th {\n",
       "        vertical-align: top;\n",
       "    }\n",
       "\n",
       "    .dataframe thead th {\n",
       "        text-align: right;\n",
       "    }\n",
       "</style>\n",
       "<table border=\"1\" class=\"dataframe\">\n",
       "  <thead>\n",
       "    <tr style=\"text-align: right;\">\n",
       "      <th></th>\n",
       "      <th>mes_reclamo</th>\n",
       "      <th>pex</th>\n",
       "      <th>p1a</th>\n",
       "      <th>p1b</th>\n",
       "      <th>pinst</th>\n",
       "      <th>p2</th>\n",
       "      <th>p3</th>\n",
       "      <th>p4a</th>\n",
       "      <th>p4b</th>\n",
       "      <th>p4c</th>\n",
       "      <th>nps</th>\n",
       "      <th>pgen</th>\n",
       "      <th>gen</th>\n",
       "      <th>region</th>\n",
       "      <th>educ</th>\n",
       "      <th>edad</th>\n",
       "      <th>ocup</th>\n",
       "      <th>ingreso</th>\n",
       "      <th>sitdisc</th>\n",
       "      <th>indg</th>\n",
       "    </tr>\n",
       "  </thead>\n",
       "  <tbody>\n",
       "    <tr>\n",
       "      <th>0</th>\n",
       "      <td>1</td>\n",
       "      <td>5</td>\n",
       "      <td>5</td>\n",
       "      <td>4</td>\n",
       "      <td>5</td>\n",
       "      <td>Solucionó parcialmente su Reclamo.</td>\n",
       "      <td>El SERNAC me envió información con la frecuenc...</td>\n",
       "      <td>7</td>\n",
       "      <td>5</td>\n",
       "      <td>6</td>\n",
       "      <td>5</td>\n",
       "      <td>5</td>\n",
       "      <td>Masculino.</td>\n",
       "      <td>Región de Valparaíso.</td>\n",
       "      <td>Superior universitaria completa.</td>\n",
       "      <td>65 años o más.</td>\n",
       "      <td>Jubilado/a</td>\n",
       "      <td>Entre $600.000 y $1.099.000</td>\n",
       "      <td>No</td>\n",
       "      <td>No</td>\n",
       "    </tr>\n",
       "    <tr>\n",
       "      <th>1</th>\n",
       "      <td>1</td>\n",
       "      <td>1</td>\n",
       "      <td>1</td>\n",
       "      <td>1</td>\n",
       "      <td>1</td>\n",
       "      <td>No solucionó su Reclamo.</td>\n",
       "      <td>Me hubiera gustado recibir información con may...</td>\n",
       "      <td>1</td>\n",
       "      <td>1</td>\n",
       "      <td>7</td>\n",
       "      <td>1</td>\n",
       "      <td>5</td>\n",
       "      <td>Femenino.</td>\n",
       "      <td>Región de Valparaíso.</td>\n",
       "      <td>Superior universitaria completa.</td>\n",
       "      <td>30 a 44 años.</td>\n",
       "      <td>Asalariado/a</td>\n",
       "      <td>$1.100.000 o más</td>\n",
       "      <td>No</td>\n",
       "      <td>No</td>\n",
       "    </tr>\n",
       "    <tr>\n",
       "      <th>2</th>\n",
       "      <td>1</td>\n",
       "      <td>4</td>\n",
       "      <td>2</td>\n",
       "      <td>2</td>\n",
       "      <td>2</td>\n",
       "      <td>No solucionó su Reclamo.</td>\n",
       "      <td>El SERNAC me envió información con la frecuenc...</td>\n",
       "      <td>3</td>\n",
       "      <td>3</td>\n",
       "      <td>3</td>\n",
       "      <td>5</td>\n",
       "      <td>2</td>\n",
       "      <td>Femenino.</td>\n",
       "      <td>Región Metropolitana de Santiago.</td>\n",
       "      <td>Superior universitaria completa.</td>\n",
       "      <td>45 a 64 años.</td>\n",
       "      <td>Asalariado/a</td>\n",
       "      <td>Menos de $300.000</td>\n",
       "      <td>No</td>\n",
       "      <td>No</td>\n",
       "    </tr>\n",
       "    <tr>\n",
       "      <th>3</th>\n",
       "      <td>1</td>\n",
       "      <td>7</td>\n",
       "      <td>7</td>\n",
       "      <td>7</td>\n",
       "      <td>7</td>\n",
       "      <td>Solucionó completamente su Reclamo.</td>\n",
       "      <td>El SERNAC me envió información con la frecuenc...</td>\n",
       "      <td>7</td>\n",
       "      <td>7</td>\n",
       "      <td>7</td>\n",
       "      <td>10</td>\n",
       "      <td>7</td>\n",
       "      <td>Femenino.</td>\n",
       "      <td>Región del Libertador General Bernardo O’Higgins.</td>\n",
       "      <td>Superior universitaria completa.</td>\n",
       "      <td>30 a 44 años.</td>\n",
       "      <td>Asalariado/a directivo/a o gerente</td>\n",
       "      <td>$1.100.000 o más</td>\n",
       "      <td>No</td>\n",
       "      <td>No</td>\n",
       "    </tr>\n",
       "    <tr>\n",
       "      <th>4</th>\n",
       "      <td>1</td>\n",
       "      <td>7</td>\n",
       "      <td>1</td>\n",
       "      <td>1</td>\n",
       "      <td>7</td>\n",
       "      <td>No solucionó su Reclamo.</td>\n",
       "      <td>El SERNAC me envió información con la frecuenc...</td>\n",
       "      <td>7</td>\n",
       "      <td>1</td>\n",
       "      <td>7</td>\n",
       "      <td>10</td>\n",
       "      <td>7</td>\n",
       "      <td>Masculino.</td>\n",
       "      <td>Región de Antofagasta.</td>\n",
       "      <td>Superior universitaria completa.</td>\n",
       "      <td>30 a 44 años.</td>\n",
       "      <td>Asalariado/a</td>\n",
       "      <td>$1.100.000 o más</td>\n",
       "      <td>No</td>\n",
       "      <td>No</td>\n",
       "    </tr>\n",
       "  </tbody>\n",
       "</table>\n",
       "</div>"
      ],
      "text/plain": [
       "   mes_reclamo  pex  p1a  p1b  pinst                                   p2  \\\n",
       "0            1    5    5    4      5   Solucionó parcialmente su Reclamo.   \n",
       "1            1    1    1    1      1             No solucionó su Reclamo.   \n",
       "2            1    4    2    2      2             No solucionó su Reclamo.   \n",
       "3            1    7    7    7      7  Solucionó completamente su Reclamo.   \n",
       "4            1    7    1    1      7             No solucionó su Reclamo.   \n",
       "\n",
       "                                                  p3  p4a  p4b  p4c  nps  \\\n",
       "0  El SERNAC me envió información con la frecuenc...    7    5    6    5   \n",
       "1  Me hubiera gustado recibir información con may...    1    1    7    1   \n",
       "2  El SERNAC me envió información con la frecuenc...    3    3    3    5   \n",
       "3  El SERNAC me envió información con la frecuenc...    7    7    7   10   \n",
       "4  El SERNAC me envió información con la frecuenc...    7    1    7   10   \n",
       "\n",
       "   pgen         gen                                             region  \\\n",
       "0     5  Masculino.                              Región de Valparaíso.   \n",
       "1     5   Femenino.                              Región de Valparaíso.   \n",
       "2     2   Femenino.                  Región Metropolitana de Santiago.   \n",
       "3     7   Femenino.  Región del Libertador General Bernardo O’Higgins.   \n",
       "4     7  Masculino.                             Región de Antofagasta.   \n",
       "\n",
       "                               educ            edad  \\\n",
       "0  Superior universitaria completa.  65 años o más.   \n",
       "1  Superior universitaria completa.   30 a 44 años.   \n",
       "2  Superior universitaria completa.   45 a 64 años.   \n",
       "3  Superior universitaria completa.   30 a 44 años.   \n",
       "4  Superior universitaria completa.   30 a 44 años.   \n",
       "\n",
       "                                 ocup                      ingreso sitdisc  \\\n",
       "0                          Jubilado/a  Entre $600.000 y $1.099.000      No   \n",
       "1                        Asalariado/a             $1.100.000 o más      No   \n",
       "2                        Asalariado/a            Menos de $300.000      No   \n",
       "3  Asalariado/a directivo/a o gerente             $1.100.000 o más      No   \n",
       "4                        Asalariado/a             $1.100.000 o más      No   \n",
       "\n",
       "  indg  \n",
       "0   No  \n",
       "1   No  \n",
       "2   No  \n",
       "3   No  \n",
       "4   No  "
      ]
     },
     "execution_count": 4,
     "metadata": {},
     "output_type": "execute_result"
    }
   ],
   "source": [
    "# Eliminar las columnas solicitadas del DataFrame\n",
    "df.drop(['id', 'fecha_inicio', 'fecha_ultima_accion', 'ppei1', 'ppei2', 'ppei3', 'ppei4'], axis=1, inplace=True)\n",
    "\n",
    "# Mostrar las primeras 5 filas del DataFrame para verificar que las columnas han sido eliminadas correctamente\n",
    "df.head()"
   ]
  },
  {
   "cell_type": "markdown",
   "id": "36f68031",
   "metadata": {},
   "source": [
    "#### Detectamos y eliminamos los espacios en blanco al inicio de nuestras columnas:"
   ]
  },
  {
   "cell_type": "markdown",
   "id": "080c13af",
   "metadata": {},
   "source": [
    "a.- Contamos espacios en blanco:"
   ]
  },
  {
   "cell_type": "code",
   "execution_count": 5,
   "id": "fea646d1",
   "metadata": {},
   "outputs": [
    {
     "name": "stdout",
     "output_type": "stream",
     "text": [
      "Número de columnas con espacios en blanco al inicio: 0\n"
     ]
    }
   ],
   "source": [
    "# Contar cuántas columnas en el DataFrame tienen espacios en blanco al inicio de su nombre\n",
    "espacios_en_blanco_iniciales = df.columns.str.startswith(' ').sum()\n",
    "\n",
    "# Imprimir el número de columnas que tienen espacios en blanco al inicio de su nombre\n",
    "print(f\"Número de columnas con espacios en blanco al inicio: {espacios_en_blanco_iniciales}\")"
   ]
  },
  {
   "cell_type": "markdown",
   "id": "061dc986",
   "metadata": {},
   "source": [
    "Podemor observar que no tenemos ninguna columna con espacios en blanco en el comienzo, de todas formas aplicamos el código para eliminar aquellos espacios si hubiesen existido:"
   ]
  },
  {
   "cell_type": "markdown",
   "id": "37833f6e",
   "metadata": {},
   "source": [
    "b.- Eliminamos posibles espacios en blanco:"
   ]
  },
  {
   "cell_type": "code",
   "execution_count": 6,
   "id": "8180e57e",
   "metadata": {},
   "outputs": [
    {
     "data": {
      "text/html": [
       "<div>\n",
       "<style scoped>\n",
       "    .dataframe tbody tr th:only-of-type {\n",
       "        vertical-align: middle;\n",
       "    }\n",
       "\n",
       "    .dataframe tbody tr th {\n",
       "        vertical-align: top;\n",
       "    }\n",
       "\n",
       "    .dataframe thead th {\n",
       "        text-align: right;\n",
       "    }\n",
       "</style>\n",
       "<table border=\"1\" class=\"dataframe\">\n",
       "  <thead>\n",
       "    <tr style=\"text-align: right;\">\n",
       "      <th></th>\n",
       "      <th>mes_reclamo</th>\n",
       "      <th>pex</th>\n",
       "      <th>p1a</th>\n",
       "      <th>p1b</th>\n",
       "      <th>pinst</th>\n",
       "      <th>p2</th>\n",
       "      <th>p3</th>\n",
       "      <th>p4a</th>\n",
       "      <th>p4b</th>\n",
       "      <th>p4c</th>\n",
       "      <th>nps</th>\n",
       "      <th>pgen</th>\n",
       "      <th>gen</th>\n",
       "      <th>region</th>\n",
       "      <th>educ</th>\n",
       "      <th>edad</th>\n",
       "      <th>ocup</th>\n",
       "      <th>ingreso</th>\n",
       "      <th>sitdisc</th>\n",
       "      <th>indg</th>\n",
       "    </tr>\n",
       "  </thead>\n",
       "  <tbody>\n",
       "    <tr>\n",
       "      <th>0</th>\n",
       "      <td>1</td>\n",
       "      <td>5</td>\n",
       "      <td>5</td>\n",
       "      <td>4</td>\n",
       "      <td>5</td>\n",
       "      <td>Solucionó parcialmente su Reclamo.</td>\n",
       "      <td>El SERNAC me envió información con la frecuenc...</td>\n",
       "      <td>7</td>\n",
       "      <td>5</td>\n",
       "      <td>6</td>\n",
       "      <td>5</td>\n",
       "      <td>5</td>\n",
       "      <td>Masculino.</td>\n",
       "      <td>Región de Valparaíso.</td>\n",
       "      <td>Superior universitaria completa.</td>\n",
       "      <td>65 años o más.</td>\n",
       "      <td>Jubilado/a</td>\n",
       "      <td>Entre $600.000 y $1.099.000</td>\n",
       "      <td>No</td>\n",
       "      <td>No</td>\n",
       "    </tr>\n",
       "    <tr>\n",
       "      <th>1</th>\n",
       "      <td>1</td>\n",
       "      <td>1</td>\n",
       "      <td>1</td>\n",
       "      <td>1</td>\n",
       "      <td>1</td>\n",
       "      <td>No solucionó su Reclamo.</td>\n",
       "      <td>Me hubiera gustado recibir información con may...</td>\n",
       "      <td>1</td>\n",
       "      <td>1</td>\n",
       "      <td>7</td>\n",
       "      <td>1</td>\n",
       "      <td>5</td>\n",
       "      <td>Femenino.</td>\n",
       "      <td>Región de Valparaíso.</td>\n",
       "      <td>Superior universitaria completa.</td>\n",
       "      <td>30 a 44 años.</td>\n",
       "      <td>Asalariado/a</td>\n",
       "      <td>$1.100.000 o más</td>\n",
       "      <td>No</td>\n",
       "      <td>No</td>\n",
       "    </tr>\n",
       "    <tr>\n",
       "      <th>2</th>\n",
       "      <td>1</td>\n",
       "      <td>4</td>\n",
       "      <td>2</td>\n",
       "      <td>2</td>\n",
       "      <td>2</td>\n",
       "      <td>No solucionó su Reclamo.</td>\n",
       "      <td>El SERNAC me envió información con la frecuenc...</td>\n",
       "      <td>3</td>\n",
       "      <td>3</td>\n",
       "      <td>3</td>\n",
       "      <td>5</td>\n",
       "      <td>2</td>\n",
       "      <td>Femenino.</td>\n",
       "      <td>Región Metropolitana de Santiago.</td>\n",
       "      <td>Superior universitaria completa.</td>\n",
       "      <td>45 a 64 años.</td>\n",
       "      <td>Asalariado/a</td>\n",
       "      <td>Menos de $300.000</td>\n",
       "      <td>No</td>\n",
       "      <td>No</td>\n",
       "    </tr>\n",
       "    <tr>\n",
       "      <th>3</th>\n",
       "      <td>1</td>\n",
       "      <td>7</td>\n",
       "      <td>7</td>\n",
       "      <td>7</td>\n",
       "      <td>7</td>\n",
       "      <td>Solucionó completamente su Reclamo.</td>\n",
       "      <td>El SERNAC me envió información con la frecuenc...</td>\n",
       "      <td>7</td>\n",
       "      <td>7</td>\n",
       "      <td>7</td>\n",
       "      <td>10</td>\n",
       "      <td>7</td>\n",
       "      <td>Femenino.</td>\n",
       "      <td>Región del Libertador General Bernardo O’Higgins.</td>\n",
       "      <td>Superior universitaria completa.</td>\n",
       "      <td>30 a 44 años.</td>\n",
       "      <td>Asalariado/a directivo/a o gerente</td>\n",
       "      <td>$1.100.000 o más</td>\n",
       "      <td>No</td>\n",
       "      <td>No</td>\n",
       "    </tr>\n",
       "    <tr>\n",
       "      <th>4</th>\n",
       "      <td>1</td>\n",
       "      <td>7</td>\n",
       "      <td>1</td>\n",
       "      <td>1</td>\n",
       "      <td>7</td>\n",
       "      <td>No solucionó su Reclamo.</td>\n",
       "      <td>El SERNAC me envió información con la frecuenc...</td>\n",
       "      <td>7</td>\n",
       "      <td>1</td>\n",
       "      <td>7</td>\n",
       "      <td>10</td>\n",
       "      <td>7</td>\n",
       "      <td>Masculino.</td>\n",
       "      <td>Región de Antofagasta.</td>\n",
       "      <td>Superior universitaria completa.</td>\n",
       "      <td>30 a 44 años.</td>\n",
       "      <td>Asalariado/a</td>\n",
       "      <td>$1.100.000 o más</td>\n",
       "      <td>No</td>\n",
       "      <td>No</td>\n",
       "    </tr>\n",
       "  </tbody>\n",
       "</table>\n",
       "</div>"
      ],
      "text/plain": [
       "   mes_reclamo  pex  p1a  p1b  pinst                                   p2  \\\n",
       "0            1    5    5    4      5   Solucionó parcialmente su Reclamo.   \n",
       "1            1    1    1    1      1             No solucionó su Reclamo.   \n",
       "2            1    4    2    2      2             No solucionó su Reclamo.   \n",
       "3            1    7    7    7      7  Solucionó completamente su Reclamo.   \n",
       "4            1    7    1    1      7             No solucionó su Reclamo.   \n",
       "\n",
       "                                                  p3  p4a  p4b  p4c  nps  \\\n",
       "0  El SERNAC me envió información con la frecuenc...    7    5    6    5   \n",
       "1  Me hubiera gustado recibir información con may...    1    1    7    1   \n",
       "2  El SERNAC me envió información con la frecuenc...    3    3    3    5   \n",
       "3  El SERNAC me envió información con la frecuenc...    7    7    7   10   \n",
       "4  El SERNAC me envió información con la frecuenc...    7    1    7   10   \n",
       "\n",
       "   pgen         gen                                             region  \\\n",
       "0     5  Masculino.                              Región de Valparaíso.   \n",
       "1     5   Femenino.                              Región de Valparaíso.   \n",
       "2     2   Femenino.                  Región Metropolitana de Santiago.   \n",
       "3     7   Femenino.  Región del Libertador General Bernardo O’Higgins.   \n",
       "4     7  Masculino.                             Región de Antofagasta.   \n",
       "\n",
       "                               educ            edad  \\\n",
       "0  Superior universitaria completa.  65 años o más.   \n",
       "1  Superior universitaria completa.   30 a 44 años.   \n",
       "2  Superior universitaria completa.   45 a 64 años.   \n",
       "3  Superior universitaria completa.   30 a 44 años.   \n",
       "4  Superior universitaria completa.   30 a 44 años.   \n",
       "\n",
       "                                 ocup                      ingreso sitdisc  \\\n",
       "0                          Jubilado/a  Entre $600.000 y $1.099.000      No   \n",
       "1                        Asalariado/a             $1.100.000 o más      No   \n",
       "2                        Asalariado/a            Menos de $300.000      No   \n",
       "3  Asalariado/a directivo/a o gerente             $1.100.000 o más      No   \n",
       "4                        Asalariado/a             $1.100.000 o más      No   \n",
       "\n",
       "  indg  \n",
       "0   No  \n",
       "1   No  \n",
       "2   No  \n",
       "3   No  \n",
       "4   No  "
      ]
     },
     "execution_count": 6,
     "metadata": {},
     "output_type": "execute_result"
    }
   ],
   "source": [
    "# Eliminar los espacios en blanco al inicio y al final de los nombres de las columnas en el DataFrame\n",
    "df.columns = df.columns.str.strip()\n",
    "\n",
    "df.head()"
   ]
  },
  {
   "cell_type": "markdown",
   "id": "01a05f8d",
   "metadata": {},
   "source": [
    "#### Detectamos y eliminamos los puntos de la columna \"gen\":"
   ]
  },
  {
   "cell_type": "markdown",
   "id": "d472f59a",
   "metadata": {},
   "source": [
    "a.- Detectamos cuantos puntos hay en la columna \"gen\":"
   ]
  },
  {
   "cell_type": "code",
   "execution_count": 7,
   "id": "b153025e",
   "metadata": {},
   "outputs": [
    {
     "name": "stdout",
     "output_type": "stream",
     "text": [
      "Número de filas con puntos en la columna 'gen': 4753\n"
     ]
    }
   ],
   "source": [
    "# Contar cuántas filas en la columna 'gen' contienen un punto ('.') en cualquier parte de su valor\n",
    "puntos_en_gen = df['gen'].str.contains('\\.').sum()\n",
    "\n",
    "# Imprimir el número de filas que contienen un punto en la columna 'gen'\n",
    "print(f\"Número de filas con puntos en la columna 'gen': {puntos_en_gen}\")"
   ]
  },
  {
   "cell_type": "markdown",
   "id": "99ba35fc",
   "metadata": {},
   "source": [
    "Con esto podemos entender que cada una de las filas en la columna \"gen\" contienen un punto."
   ]
  },
  {
   "cell_type": "markdown",
   "id": "0e35b775",
   "metadata": {},
   "source": [
    "b.- Procedemos a eliminar los puntos:"
   ]
  },
  {
   "cell_type": "code",
   "execution_count": 8,
   "id": "eeda73e9",
   "metadata": {},
   "outputs": [
    {
     "data": {
      "text/html": [
       "<div>\n",
       "<style scoped>\n",
       "    .dataframe tbody tr th:only-of-type {\n",
       "        vertical-align: middle;\n",
       "    }\n",
       "\n",
       "    .dataframe tbody tr th {\n",
       "        vertical-align: top;\n",
       "    }\n",
       "\n",
       "    .dataframe thead th {\n",
       "        text-align: right;\n",
       "    }\n",
       "</style>\n",
       "<table border=\"1\" class=\"dataframe\">\n",
       "  <thead>\n",
       "    <tr style=\"text-align: right;\">\n",
       "      <th></th>\n",
       "      <th>mes_reclamo</th>\n",
       "      <th>pex</th>\n",
       "      <th>p1a</th>\n",
       "      <th>p1b</th>\n",
       "      <th>pinst</th>\n",
       "      <th>p2</th>\n",
       "      <th>p3</th>\n",
       "      <th>p4a</th>\n",
       "      <th>p4b</th>\n",
       "      <th>p4c</th>\n",
       "      <th>nps</th>\n",
       "      <th>pgen</th>\n",
       "      <th>gen</th>\n",
       "      <th>region</th>\n",
       "      <th>educ</th>\n",
       "      <th>edad</th>\n",
       "      <th>ocup</th>\n",
       "      <th>ingreso</th>\n",
       "      <th>sitdisc</th>\n",
       "      <th>indg</th>\n",
       "    </tr>\n",
       "  </thead>\n",
       "  <tbody>\n",
       "    <tr>\n",
       "      <th>0</th>\n",
       "      <td>1</td>\n",
       "      <td>5</td>\n",
       "      <td>5</td>\n",
       "      <td>4</td>\n",
       "      <td>5</td>\n",
       "      <td>Solucionó parcialmente su Reclamo.</td>\n",
       "      <td>El SERNAC me envió información con la frecuenc...</td>\n",
       "      <td>7</td>\n",
       "      <td>5</td>\n",
       "      <td>6</td>\n",
       "      <td>5</td>\n",
       "      <td>5</td>\n",
       "      <td>Masculino</td>\n",
       "      <td>Región de Valparaíso.</td>\n",
       "      <td>Superior universitaria completa.</td>\n",
       "      <td>65 años o más.</td>\n",
       "      <td>Jubilado/a</td>\n",
       "      <td>Entre $600.000 y $1.099.000</td>\n",
       "      <td>No</td>\n",
       "      <td>No</td>\n",
       "    </tr>\n",
       "    <tr>\n",
       "      <th>1</th>\n",
       "      <td>1</td>\n",
       "      <td>1</td>\n",
       "      <td>1</td>\n",
       "      <td>1</td>\n",
       "      <td>1</td>\n",
       "      <td>No solucionó su Reclamo.</td>\n",
       "      <td>Me hubiera gustado recibir información con may...</td>\n",
       "      <td>1</td>\n",
       "      <td>1</td>\n",
       "      <td>7</td>\n",
       "      <td>1</td>\n",
       "      <td>5</td>\n",
       "      <td>Femenino</td>\n",
       "      <td>Región de Valparaíso.</td>\n",
       "      <td>Superior universitaria completa.</td>\n",
       "      <td>30 a 44 años.</td>\n",
       "      <td>Asalariado/a</td>\n",
       "      <td>$1.100.000 o más</td>\n",
       "      <td>No</td>\n",
       "      <td>No</td>\n",
       "    </tr>\n",
       "    <tr>\n",
       "      <th>2</th>\n",
       "      <td>1</td>\n",
       "      <td>4</td>\n",
       "      <td>2</td>\n",
       "      <td>2</td>\n",
       "      <td>2</td>\n",
       "      <td>No solucionó su Reclamo.</td>\n",
       "      <td>El SERNAC me envió información con la frecuenc...</td>\n",
       "      <td>3</td>\n",
       "      <td>3</td>\n",
       "      <td>3</td>\n",
       "      <td>5</td>\n",
       "      <td>2</td>\n",
       "      <td>Femenino</td>\n",
       "      <td>Región Metropolitana de Santiago.</td>\n",
       "      <td>Superior universitaria completa.</td>\n",
       "      <td>45 a 64 años.</td>\n",
       "      <td>Asalariado/a</td>\n",
       "      <td>Menos de $300.000</td>\n",
       "      <td>No</td>\n",
       "      <td>No</td>\n",
       "    </tr>\n",
       "  </tbody>\n",
       "</table>\n",
       "</div>"
      ],
      "text/plain": [
       "   mes_reclamo  pex  p1a  p1b  pinst                                  p2  \\\n",
       "0            1    5    5    4      5  Solucionó parcialmente su Reclamo.   \n",
       "1            1    1    1    1      1            No solucionó su Reclamo.   \n",
       "2            1    4    2    2      2            No solucionó su Reclamo.   \n",
       "\n",
       "                                                  p3  p4a  p4b  p4c  nps  \\\n",
       "0  El SERNAC me envió información con la frecuenc...    7    5    6    5   \n",
       "1  Me hubiera gustado recibir información con may...    1    1    7    1   \n",
       "2  El SERNAC me envió información con la frecuenc...    3    3    3    5   \n",
       "\n",
       "   pgen        gen                             region  \\\n",
       "0     5  Masculino              Región de Valparaíso.   \n",
       "1     5   Femenino              Región de Valparaíso.   \n",
       "2     2   Femenino  Región Metropolitana de Santiago.   \n",
       "\n",
       "                               educ            edad          ocup  \\\n",
       "0  Superior universitaria completa.  65 años o más.    Jubilado/a   \n",
       "1  Superior universitaria completa.   30 a 44 años.  Asalariado/a   \n",
       "2  Superior universitaria completa.   45 a 64 años.  Asalariado/a   \n",
       "\n",
       "                       ingreso sitdisc indg  \n",
       "0  Entre $600.000 y $1.099.000      No   No  \n",
       "1             $1.100.000 o más      No   No  \n",
       "2            Menos de $300.000      No   No  "
      ]
     },
     "execution_count": 8,
     "metadata": {},
     "output_type": "execute_result"
    }
   ],
   "source": [
    "# Eliminar los puntos ('.') en los valores de la columna 'gen'\n",
    "df['gen'] = df['gen'].str.replace('.', '', regex=False)\n",
    "\n",
    "# Mostrar las primeras 3 filas del DataFrame para verificar que los puntos han sido eliminados de la columna 'gen'\n",
    "df.head(3)"
   ]
  },
  {
   "cell_type": "markdown",
   "id": "a5fcc688",
   "metadata": {},
   "source": [
    "c.- Por último volvemos a contar para verificar el borrado correcto de los puntos:"
   ]
  },
  {
   "cell_type": "code",
   "execution_count": 9,
   "id": "71c126d1",
   "metadata": {},
   "outputs": [
    {
     "name": "stdout",
     "output_type": "stream",
     "text": [
      "Número de filas con puntos en la columna 'gen' después de la limpieza: 0\n"
     ]
    }
   ],
   "source": [
    "# Contar cuántas filas en la columna 'gen' aún contienen un punto ('.') después de la limpieza\n",
    "puntos_en_gen_despues = df['gen'].str.contains('\\.').sum()\n",
    "\n",
    "# Imprimir el número de filas que aún contienen un punto en la columna 'gen' después de la eliminación\n",
    "print(f\"Número de filas con puntos en la columna 'gen' después de la limpieza: {puntos_en_gen_despues}\")"
   ]
  },
  {
   "cell_type": "markdown",
   "id": "5c78b340",
   "metadata": {},
   "source": [
    "### 2.- Implemente una función en Python que reciba por parámetro un DataFrame y el gé-nero, para este último los valores posibles son: Masculino, Femenino, No binario, Otro y Todos. Esta función debe devolver el NPS para el género solicitado, si es Todos devolverá el NPS considerando todos los registros. (Ptj. 3)\n",
    "\n",
    "### Para realizar el cálculo de este score se hace en base a las respuestas a la pregunta: En una escala de 1 a 10 ¿qué tan probable es que usted recomiende el SERNAC a un familiar o un amigo/a para realizar un Reclamo?\n",
    "### •\tLos que responden con puntajes de 0 a 6 son considerados “detractores”\n",
    "### •\tLos que responden con puntajes 7 u 8 son clasificados como “pasivos”\n",
    "### •\tAquellos que responden con puntajes 9 o 10 serán los “promotores”\n"
   ]
  },
  {
   "cell_type": "markdown",
   "id": "5c982d2e",
   "metadata": {},
   "source": [
    "#### a.- Definimos la función solicitada:"
   ]
  },
  {
   "cell_type": "code",
   "execution_count": 10,
   "id": "c412f35c",
   "metadata": {},
   "outputs": [],
   "source": [
    "def calcular_nps(df, genero):\n",
    "    # Filtrar el DataFrame por el género si no es \"Todos\"\n",
    "    if genero != \"Todos\":\n",
    "        df = df[df['gen'] == genero]\n",
    "    \n",
    "    # Calcular la cantidad total de respuestas\n",
    "    total_respuestas = len(df)\n",
    "    \n",
    "    if total_respuestas == 0:\n",
    "        return \"No hay datos para el género solicitado\"\n",
    "    \n",
    "    # Calcular la cantidad de Promotores, Pasivos y Detractores\n",
    "    promotores = len(df[df['nps'] >= 9])\n",
    "    detractores = len(df[df['nps'] <= 6])\n",
    "    \n",
    "    # Calcular el NPS\n",
    "    nps = ((promotores - detractores) / total_respuestas) * 100\n",
    "    \n",
    "    return nps"
   ]
  },
  {
   "cell_type": "markdown",
   "id": "725e8448",
   "metadata": {},
   "source": [
    "#### b.- Averiguamos la información de nuestra columna:"
   ]
  },
  {
   "cell_type": "code",
   "execution_count": 11,
   "id": "bac1a28a",
   "metadata": {},
   "outputs": [
    {
     "name": "stdout",
     "output_type": "stream",
     "text": [
      "Valores únicos en la columna 'gen':\n",
      "['Masculino' 'Femenino' 'Otro' 'No binario']\n",
      "\n",
      "Cantidad de ocurrencias de cada valor en la columna 'gen':\n",
      "Femenino      2389\n",
      "Masculino     2364\n",
      "Otro            24\n",
      "No binario      16\n",
      "Name: gen, dtype: int64\n"
     ]
    }
   ],
   "source": [
    "# Obtener los valores únicos y la cantidad de cada uno\n",
    "valores_gen_unicos = df['gen'].unique()\n",
    "conteo_gen = df['gen'].value_counts()\n",
    "\n",
    "# Mostrar los valores únicos\n",
    "print(\"Valores únicos en la columna 'gen':\")\n",
    "print(valores_gen_unicos)\n",
    "\n",
    "# Mostrar el conteo de cada valor\n",
    "print(\"\\nCantidad de ocurrencias de cada valor en la columna 'gen':\")\n",
    "print(conteo_gen)"
   ]
  },
  {
   "cell_type": "code",
   "execution_count": 12,
   "id": "601bd6d6",
   "metadata": {},
   "outputs": [
    {
     "name": "stdout",
     "output_type": "stream",
     "text": [
      "['Masculino' 'Femenino' 'Otro' 'No binario']\n"
     ]
    }
   ],
   "source": [
    "# Obtener los valores únicos presentes en la columna 'gen'\n",
    "valores_gen = df['gen'].unique()\n",
    "\n",
    "# Imprimir los valores únicos encontrados en la columna 'gen'\n",
    "print(valores_gen)"
   ]
  },
  {
   "cell_type": "markdown",
   "id": "d45246d0",
   "metadata": {},
   "source": [
    "#### c.- Llamamos la función para el género \"Masculino\":"
   ]
  },
  {
   "cell_type": "code",
   "execution_count": 13,
   "id": "34f77faa",
   "metadata": {},
   "outputs": [
    {
     "name": "stdout",
     "output_type": "stream",
     "text": [
      "NPS para Masculino: 13.409475465313028\n"
     ]
    }
   ],
   "source": [
    "# Calcular el NPS para los registros en el DataFrame que corresponden al género \"Masculino\"\n",
    "nps_masculino = calcular_nps(df, 'Masculino')\n",
    "\n",
    "# Imprimir el valor del NPS calculado para el género \"Masculino\"\n",
    "print(f\"NPS para Masculino: {nps_masculino}\")"
   ]
  },
  {
   "cell_type": "markdown",
   "id": "b3197df0",
   "metadata": {},
   "source": [
    "#### d.- Llamamos la función para el género \"Femenino\":"
   ]
  },
  {
   "cell_type": "code",
   "execution_count": 14,
   "id": "ed3a604d",
   "metadata": {},
   "outputs": [
    {
     "name": "stdout",
     "output_type": "stream",
     "text": [
      "NPS para Femenino: 14.90163248221013\n"
     ]
    }
   ],
   "source": [
    "# Calcular el NPS para los registros en el DataFrame que corresponden al género \"Femenino\"\n",
    "nps_femenino = calcular_nps(df, 'Femenino')\n",
    "\n",
    "# Imprimir el valor del NPS calculado para el género \"Femenino\"\n",
    "print(f\"NPS para Femenino: {nps_femenino}\")"
   ]
  },
  {
   "cell_type": "markdown",
   "id": "03375b50",
   "metadata": {},
   "source": [
    "#### e.- Llamamos la función para el género \"No binario\":"
   ]
  },
  {
   "cell_type": "code",
   "execution_count": 15,
   "id": "034c424a",
   "metadata": {},
   "outputs": [
    {
     "name": "stdout",
     "output_type": "stream",
     "text": [
      "NPS para No binario: -37.5\n"
     ]
    }
   ],
   "source": [
    "# Calcular el NPS para los registros en el DataFrame que corresponden al género \"No binario\"\n",
    "nps_no_binario = calcular_nps(df, 'No binario')\n",
    "\n",
    "# Imprimir el valor del NPS calculado para el género \"No binario\"\n",
    "print(f\"NPS para No binario: {nps_no_binario}\")"
   ]
  },
  {
   "cell_type": "markdown",
   "id": "4a5ac935",
   "metadata": {},
   "source": [
    "#### f.- Llamamos la función para \"Otro\":"
   ]
  },
  {
   "cell_type": "code",
   "execution_count": 16,
   "id": "a15d2bbf",
   "metadata": {},
   "outputs": [
    {
     "name": "stdout",
     "output_type": "stream",
     "text": [
      "NPS para Otro: -37.5\n"
     ]
    }
   ],
   "source": [
    "# Calcular el NPS para los registros en el DataFrame que corresponden al género \"Otro\"\n",
    "nps_otro = calcular_nps(df, 'Otro')\n",
    "\n",
    "# Imprimir el valor del NPS calculado para el género \"Otro\"\n",
    "print(f\"NPS para Otro: {nps_otro}\")"
   ]
  },
  {
   "cell_type": "markdown",
   "id": "65d1abf6",
   "metadata": {},
   "source": [
    "#### g.- Llamamos la función para \"Todos\":"
   ]
  },
  {
   "cell_type": "code",
   "execution_count": 17,
   "id": "4c39e2a3",
   "metadata": {},
   "outputs": [
    {
     "name": "stdout",
     "output_type": "stream",
     "text": [
      "NPS general: 13.728353849363655\n"
     ]
    }
   ],
   "source": [
    "# Calcular el NPS para todos los registros en el DataFrame, sin filtrar por género\n",
    "nps_general = calcular_nps(df, 'Todos')\n",
    "\n",
    "# Imprimir el valor del NPS calculado para todos los géneros en conjunto\n",
    "print(f\"NPS general: {nps_general}\")"
   ]
  },
  {
   "cell_type": "markdown",
   "id": "b9c8777a",
   "metadata": {},
   "source": [
    "### 3.- Muestre la cantidad de registros para cada categoría de edad y nivel de sueldo disponible, donde la categoría de edad estará en las filas y el sueldo en las columnas. (Ptj. 1)"
   ]
  },
  {
   "cell_type": "markdown",
   "id": "ea2854a6",
   "metadata": {},
   "source": [
    "A continuación mostraré 2 formas de hacer esta tabla:"
   ]
  },
  {
   "cell_type": "code",
   "execution_count": 18,
   "id": "9d575be0",
   "metadata": {},
   "outputs": [
    {
     "data": {
      "text/html": [
       "<div>\n",
       "<style scoped>\n",
       "    .dataframe tbody tr th:only-of-type {\n",
       "        vertical-align: middle;\n",
       "    }\n",
       "\n",
       "    .dataframe tbody tr th {\n",
       "        vertical-align: top;\n",
       "    }\n",
       "\n",
       "    .dataframe thead th {\n",
       "        text-align: right;\n",
       "    }\n",
       "</style>\n",
       "<table border=\"1\" class=\"dataframe\">\n",
       "  <thead>\n",
       "    <tr style=\"text-align: right;\">\n",
       "      <th>ingreso</th>\n",
       "      <th>$1.100.000 o más</th>\n",
       "      <th>Entre $300.001 y $399.999</th>\n",
       "      <th>Entre $400.000 y $599.999</th>\n",
       "      <th>Entre $600.000 y $1.099.000</th>\n",
       "      <th>Menos de $300.000</th>\n",
       "    </tr>\n",
       "    <tr>\n",
       "      <th>edad</th>\n",
       "      <th></th>\n",
       "      <th></th>\n",
       "      <th></th>\n",
       "      <th></th>\n",
       "      <th></th>\n",
       "    </tr>\n",
       "  </thead>\n",
       "  <tbody>\n",
       "    <tr>\n",
       "      <th>18 a 29 años.</th>\n",
       "      <td>86</td>\n",
       "      <td>31</td>\n",
       "      <td>67</td>\n",
       "      <td>118</td>\n",
       "      <td>137</td>\n",
       "    </tr>\n",
       "    <tr>\n",
       "      <th>30 a 44 años.</th>\n",
       "      <td>868</td>\n",
       "      <td>82</td>\n",
       "      <td>260</td>\n",
       "      <td>519</td>\n",
       "      <td>177</td>\n",
       "    </tr>\n",
       "    <tr>\n",
       "      <th>45 a 64 años.</th>\n",
       "      <td>803</td>\n",
       "      <td>107</td>\n",
       "      <td>269</td>\n",
       "      <td>498</td>\n",
       "      <td>211</td>\n",
       "    </tr>\n",
       "    <tr>\n",
       "      <th>65 años o más.</th>\n",
       "      <td>162</td>\n",
       "      <td>54</td>\n",
       "      <td>121</td>\n",
       "      <td>147</td>\n",
       "      <td>76</td>\n",
       "    </tr>\n",
       "  </tbody>\n",
       "</table>\n",
       "</div>"
      ],
      "text/plain": [
       "ingreso         $1.100.000 o más  Entre $300.001 y $399.999  \\\n",
       "edad                                                          \n",
       "18 a 29 años.                 86                         31   \n",
       "30 a 44 años.                868                         82   \n",
       "45 a 64 años.                803                        107   \n",
       "65 años o más.               162                         54   \n",
       "\n",
       "ingreso         Entre $400.000 y $599.999  Entre $600.000 y $1.099.000  \\\n",
       "edad                                                                     \n",
       "18 a 29 años.                          67                          118   \n",
       "30 a 44 años.                         260                          519   \n",
       "45 a 64 años.                         269                          498   \n",
       "65 años o más.                        121                          147   \n",
       "\n",
       "ingreso         Menos de $300.000  \n",
       "edad                               \n",
       "18 a 29 años.                 137  \n",
       "30 a 44 años.                 177  \n",
       "45 a 64 años.                 211  \n",
       "65 años o más.                 76  "
      ]
     },
     "execution_count": 18,
     "metadata": {},
     "output_type": "execute_result"
    }
   ],
   "source": [
    "# Crear una tabla pivote para mostrar la cantidad de registros por categoría de edad y nivel de ingreso\n",
    "tabla_pivote = df.pivot_table(index='edad', columns='ingreso', aggfunc='size', fill_value=0)\n",
    "\n",
    "# Mostrar la tabla pivote\n",
    "tabla_pivote"
   ]
  },
  {
   "cell_type": "code",
   "execution_count": 19,
   "id": "c6e92c90",
   "metadata": {},
   "outputs": [
    {
     "data": {
      "text/html": [
       "<div>\n",
       "<style scoped>\n",
       "    .dataframe tbody tr th:only-of-type {\n",
       "        vertical-align: middle;\n",
       "    }\n",
       "\n",
       "    .dataframe tbody tr th {\n",
       "        vertical-align: top;\n",
       "    }\n",
       "\n",
       "    .dataframe thead th {\n",
       "        text-align: right;\n",
       "    }\n",
       "</style>\n",
       "<table border=\"1\" class=\"dataframe\">\n",
       "  <thead>\n",
       "    <tr style=\"text-align: right;\">\n",
       "      <th>ingreso</th>\n",
       "      <th>$1.100.000 o más</th>\n",
       "      <th>Entre $300.001 y $399.999</th>\n",
       "      <th>Entre $400.000 y $599.999</th>\n",
       "      <th>Entre $600.000 y $1.099.000</th>\n",
       "      <th>Menos de $300.000</th>\n",
       "    </tr>\n",
       "    <tr>\n",
       "      <th>edad</th>\n",
       "      <th></th>\n",
       "      <th></th>\n",
       "      <th></th>\n",
       "      <th></th>\n",
       "      <th></th>\n",
       "    </tr>\n",
       "  </thead>\n",
       "  <tbody>\n",
       "    <tr>\n",
       "      <th>18 a 29 años.</th>\n",
       "      <td>86</td>\n",
       "      <td>31</td>\n",
       "      <td>67</td>\n",
       "      <td>118</td>\n",
       "      <td>137</td>\n",
       "    </tr>\n",
       "    <tr>\n",
       "      <th>30 a 44 años.</th>\n",
       "      <td>868</td>\n",
       "      <td>82</td>\n",
       "      <td>260</td>\n",
       "      <td>519</td>\n",
       "      <td>177</td>\n",
       "    </tr>\n",
       "    <tr>\n",
       "      <th>45 a 64 años.</th>\n",
       "      <td>803</td>\n",
       "      <td>107</td>\n",
       "      <td>269</td>\n",
       "      <td>498</td>\n",
       "      <td>211</td>\n",
       "    </tr>\n",
       "    <tr>\n",
       "      <th>65 años o más.</th>\n",
       "      <td>162</td>\n",
       "      <td>54</td>\n",
       "      <td>121</td>\n",
       "      <td>147</td>\n",
       "      <td>76</td>\n",
       "    </tr>\n",
       "  </tbody>\n",
       "</table>\n",
       "</div>"
      ],
      "text/plain": [
       "ingreso         $1.100.000 o más  Entre $300.001 y $399.999  \\\n",
       "edad                                                          \n",
       "18 a 29 años.                 86                         31   \n",
       "30 a 44 años.                868                         82   \n",
       "45 a 64 años.                803                        107   \n",
       "65 años o más.               162                         54   \n",
       "\n",
       "ingreso         Entre $400.000 y $599.999  Entre $600.000 y $1.099.000  \\\n",
       "edad                                                                     \n",
       "18 a 29 años.                          67                          118   \n",
       "30 a 44 años.                         260                          519   \n",
       "45 a 64 años.                         269                          498   \n",
       "65 años o más.                        121                          147   \n",
       "\n",
       "ingreso         Menos de $300.000  \n",
       "edad                               \n",
       "18 a 29 años.                 137  \n",
       "30 a 44 años.                 177  \n",
       "45 a 64 años.                 211  \n",
       "65 años o más.                 76  "
      ]
     },
     "execution_count": 19,
     "metadata": {},
     "output_type": "execute_result"
    }
   ],
   "source": [
    "# Crear una tabla a través de crosstab para mostrar la cantidad de registros por categoría de edad y nivel de ingreso\n",
    "tabla_contingencia = pd.crosstab(df['edad'], df['ingreso'])\n",
    "\n",
    "# Mostrar la tabla\n",
    "tabla_contingencia"
   ]
  },
  {
   "cell_type": "markdown",
   "id": "9551b259",
   "metadata": {},
   "source": [
    "### 4.- Despliegue las top “N” Regiones que presentan mayor cantidad de reclamos en que el cliente “No soluciono su reclamo” ordenadas de mayor a menor, debe mostrar el nombre la región junto con la cantidad de observaciones que cumplan con lo requerido, N es un valor que si se cambia el código debe devolver la cantidad que se requiere. (Ptj.2)"
   ]
  },
  {
   "cell_type": "markdown",
   "id": "ec98eb7d",
   "metadata": {},
   "source": [
    "a.- Primero identificamos la columna que contiene la información, y dada la descripción, p2 se ajusta a lo requerido:"
   ]
  },
  {
   "cell_type": "code",
   "execution_count": 20,
   "id": "893a4eb6",
   "metadata": {},
   "outputs": [
    {
     "name": "stdout",
     "output_type": "stream",
     "text": [
      "Valores únicos en la columna 'p2':\n",
      "['Solucionó parcialmente su Reclamo.' 'No solucionó su Reclamo.'\n",
      " 'Solucionó completamente su Reclamo.' 'Otro']\n",
      "\n",
      "Cantidad de ocurrencias de cada valor en la columna 'p2':\n",
      "No solucionó su Reclamo.               2041\n",
      "Solucionó completamente su Reclamo.    1716\n",
      "Solucionó parcialmente su Reclamo.      518\n",
      "Otro                                    518\n",
      "Name: p2, dtype: int64\n"
     ]
    }
   ],
   "source": [
    "# Obtener los valores únicos y la cantidad de cada uno\n",
    "valores_p2_unicos = df['p2'].unique()\n",
    "conteo_p2 = df['p2'].value_counts()\n",
    "\n",
    "# Mostrar los valores únicos\n",
    "print(\"Valores únicos en la columna 'p2':\")\n",
    "print(valores_p2_unicos)\n",
    "\n",
    "# Mostrar el conteo de cada valor\n",
    "print(\"\\nCantidad de ocurrencias de cada valor en la columna 'p2':\")\n",
    "print(conteo_p2)"
   ]
  },
  {
   "cell_type": "markdown",
   "id": "a434a85e",
   "metadata": {},
   "source": [
    "b.- Creamos una función para desplegar el top de Regiones que presentan mayor cantidad de reclamos en el que el cliente \"No solucionó su reclamo\":"
   ]
  },
  {
   "cell_type": "code",
   "execution_count": 21,
   "id": "37fd1226",
   "metadata": {},
   "outputs": [],
   "source": [
    "def top_n_regiones(df, N):\n",
    "    # Filtrar los registros donde el cliente no solucionó su reclamo\n",
    "    df_no_soluciono = df[df['p2'] == 'No solucionó su Reclamo.']\n",
    "    \n",
    "    # Agrupar por región y contar la cantidad de observaciones\n",
    "    conteo_regiones = df_no_soluciono.groupby('region').size().reset_index(name='cantidad')\n",
    "    \n",
    "    # Ordenar de mayor a menor según la cantidad de observaciones\n",
    "    conteo_regiones_ordenado = conteo_regiones.sort_values(by='cantidad', ascending=False)\n",
    "    \n",
    "    # Seleccionar las top N regiones\n",
    "    top_n = conteo_regiones_ordenado.head(N)\n",
    "    \n",
    "    return top_n"
   ]
  },
  {
   "cell_type": "markdown",
   "id": "9657bb2a",
   "metadata": {},
   "source": [
    "c.- Definimos un número de top \"N\" para llamar a la función:"
   ]
  },
  {
   "cell_type": "code",
   "execution_count": 22,
   "id": "f1fd2dae",
   "metadata": {},
   "outputs": [
    {
     "data": {
      "text/html": [
       "<div>\n",
       "<style scoped>\n",
       "    .dataframe tbody tr th:only-of-type {\n",
       "        vertical-align: middle;\n",
       "    }\n",
       "\n",
       "    .dataframe tbody tr th {\n",
       "        vertical-align: top;\n",
       "    }\n",
       "\n",
       "    .dataframe thead th {\n",
       "        text-align: right;\n",
       "    }\n",
       "</style>\n",
       "<table border=\"1\" class=\"dataframe\">\n",
       "  <thead>\n",
       "    <tr style=\"text-align: right;\">\n",
       "      <th></th>\n",
       "      <th>region</th>\n",
       "      <th>cantidad</th>\n",
       "    </tr>\n",
       "  </thead>\n",
       "  <tbody>\n",
       "    <tr>\n",
       "      <th>0</th>\n",
       "      <td>Región Metropolitana de Santiago.</td>\n",
       "      <td>1093</td>\n",
       "    </tr>\n",
       "    <tr>\n",
       "      <th>11</th>\n",
       "      <td>Región de Valparaíso.</td>\n",
       "      <td>217</td>\n",
       "    </tr>\n",
       "    <tr>\n",
       "      <th>12</th>\n",
       "      <td>Región del Biobío.</td>\n",
       "      <td>145</td>\n",
       "    </tr>\n",
       "    <tr>\n",
       "      <th>13</th>\n",
       "      <td>Región del Libertador General Bernardo O’Higgins.</td>\n",
       "      <td>90</td>\n",
       "    </tr>\n",
       "    <tr>\n",
       "      <th>7</th>\n",
       "      <td>Región de Los Lagos.</td>\n",
       "      <td>81</td>\n",
       "    </tr>\n",
       "    <tr>\n",
       "      <th>14</th>\n",
       "      <td>Región del Maule.</td>\n",
       "      <td>81</td>\n",
       "    </tr>\n",
       "    <tr>\n",
       "      <th>5</th>\n",
       "      <td>Región de Coquimbo.</td>\n",
       "      <td>68</td>\n",
       "    </tr>\n",
       "    <tr>\n",
       "      <th>6</th>\n",
       "      <td>Región de La Araucanía.</td>\n",
       "      <td>65</td>\n",
       "    </tr>\n",
       "    <tr>\n",
       "      <th>1</th>\n",
       "      <td>Región de Antofagasta.</td>\n",
       "      <td>57</td>\n",
       "    </tr>\n",
       "    <tr>\n",
       "      <th>10</th>\n",
       "      <td>Región de Tarapacá.</td>\n",
       "      <td>28</td>\n",
       "    </tr>\n",
       "  </tbody>\n",
       "</table>\n",
       "</div>"
      ],
      "text/plain": [
       "                                               region  cantidad\n",
       "0                   Región Metropolitana de Santiago.      1093\n",
       "11                              Región de Valparaíso.       217\n",
       "12                                 Región del Biobío.       145\n",
       "13  Región del Libertador General Bernardo O’Higgins.        90\n",
       "7                                Región de Los Lagos.        81\n",
       "14                                  Región del Maule.        81\n",
       "5                                 Región de Coquimbo.        68\n",
       "6                             Región de La Araucanía.        65\n",
       "1                              Región de Antofagasta.        57\n",
       "10                                Región de Tarapacá.        28"
      ]
     },
     "execution_count": 22,
     "metadata": {},
     "output_type": "execute_result"
    }
   ],
   "source": [
    "N = 10  # Se modifica según el requerimiento de top \n",
    "top_regiones = top_n_regiones(df, N)\n",
    "top_regiones"
   ]
  },
  {
   "cell_type": "markdown",
   "id": "8a5f41fd",
   "metadata": {},
   "source": [
    "### 5.\tDesarrolle una función que reciba por parámetro un DataFrame y el nombre de una columna que pertenezca a este, para datos discretos que puede ser: gen, región, educ, edad, ocup, ingreso, sitdisc o indg. La función debe mostrar un gráfico de ba-rras con la cantidad de reclamos completamente solucionados para cada categoría de la columna recibida por parámetro. (Ptj 1)"
   ]
  },
  {
   "cell_type": "markdown",
   "id": "90d0d217",
   "metadata": {},
   "source": [
    "#### a.- Definimos la función en cuestión:"
   ]
  },
  {
   "cell_type": "code",
   "execution_count": 23,
   "id": "ea33f45a",
   "metadata": {},
   "outputs": [],
   "source": [
    "def grafico_reclamos_solucionados(df, columna):\n",
    "    # Filtrar los registros donde el reclamo está completamente solucionado\n",
    "    df_solucionado = df[df['p2'] == 'Solucionó completamente su Reclamo.']\n",
    "    \n",
    "    # Agrupar por la columna recibida y contar los registros\n",
    "    conteo = df_solucionado.groupby(columna).size().reset_index(name='cantidad')\n",
    "    \n",
    "    # Ordenar por cantidad\n",
    "    conteo = conteo.sort_values(by='cantidad', ascending=False)\n",
    "    \n",
    "    # Crear el gráfico de barras\n",
    "    plt.figure(figsize=(10, 6))\n",
    "    bars = plt.bar(conteo[columna], conteo['cantidad'], color='blue')\n",
    "    plt.xlabel(columna)\n",
    "    plt.ylabel('Cantidad de Reclamos Solucionados')\n",
    "    plt.title(f'Cantidad de Reclamos Completamente Solucionados por {columna}')\n",
    "    plt.xticks(rotation=45, ha='right')\n",
    "    \n",
    "    # Añadir etiquetas de valor encima de cada barra\n",
    "    for bar in bars:\n",
    "        yval = bar.get_height()\n",
    "        plt.text(bar.get_x() + bar.get_width()/2, yval + 0.1, int(yval), ha='center', va='bottom')\n",
    "    \n",
    "    plt.tight_layout()\n",
    "    plt.show()"
   ]
  },
  {
   "cell_type": "markdown",
   "id": "577ce529",
   "metadata": {},
   "source": [
    "He decidido llamar a la función con 4 variables y hacer un acotado análisis para cada uno de estos gráficos."
   ]
  },
  {
   "cell_type": "markdown",
   "id": "0d2d7816",
   "metadata": {},
   "source": [
    "#### b.- Llamamos a la función con la variable región:"
   ]
  },
  {
   "cell_type": "code",
   "execution_count": 24,
   "id": "2f05dd96",
   "metadata": {},
   "outputs": [
    {
     "data": {
      "image/png": "[encoded data removed]",
      "text/plain": [
       "<Figure size 1000x600 with 1 Axes>"
      ]
     },
     "metadata": {},
     "output_type": "display_data"
    }
   ],
   "source": [
    "grafico_reclamos_solucionados(df, 'region')"
   ]
  },
  {
   "cell_type": "markdown",
   "id": "b74e4563",
   "metadata": {},
   "source": [
    "El análisis revela que la Región Metropolitana registra la mayor cantidad de reclamos \"Completamente Solucionados\", con un total de 933 casos, superando ampliamente a la Región de Valparaíso, que ocupa el segundo lugar con 197 reclamos resueltos. Sin embargo, esta diferencia en números absolutos no permite por sí sola determinar la efectividad de la gestión en estas regiones.\n",
    "\n",
    "Para una evaluación más precisa, sería fundamental considerar el número total de reclamos recibidos en cada región. Solo así podríamos calcular la proporción de reclamos resueltos, lo que ofrecería una medida más adecuada de la eficiencia y capacidad de respuesta en cada región."
   ]
  },
  {
   "cell_type": "markdown",
   "id": "b04a07ac",
   "metadata": {},
   "source": [
    "#### c.- Llamamos a la función con la variable gen:"
   ]
  },
  {
   "cell_type": "code",
   "execution_count": 25,
   "id": "9e327578",
   "metadata": {},
   "outputs": [
    {
     "data": {
      "image/png": "[encoded data removed]",
      "text/plain": [
       "<Figure size 1000x600 with 1 Axes>"
      ]
     },
     "metadata": {},
     "output_type": "display_data"
    }
   ],
   "source": [
    "grafico_reclamos_solucionados(df, 'gen')"
   ]
  },
  {
   "cell_type": "markdown",
   "id": "ef3507da",
   "metadata": {},
   "source": [
    "El análisis de los datos muestra que los reclamos \"Completamente Solucionados\" están distribuidos de manera bastante equilibrada entre los géneros Femenino y Masculino, con 860 y 848 casos respectivamente. Esta paridad sugiere que, en términos absolutos, tanto mujeres como hombres están viendo una cantidad similar de sus reclamos resueltos.\n",
    "\n",
    "Sin embargo, el número de casos es significativamente menor para las categorías de \"No binario\" y \"Otro\", con solo 4 reclamos solucionados en cada caso. Este marcado contraste puede deberse a una menor representación de estos grupos en la muestra total o a posibles diferencias en cómo se gestionan sus reclamos. Para entender completamente la situación, sería crucial comparar estos datos con el total de reclamos recibidos por cada género, lo que permitiría evaluar si existen disparidades en la eficiencia de resolución entre los diferentes grupos de género."
   ]
  },
  {
   "cell_type": "markdown",
   "id": "c41020d5",
   "metadata": {},
   "source": [
    "#### d.- Llamamos a la función con la variable ocup:"
   ]
  },
  {
   "cell_type": "code",
   "execution_count": 26,
   "id": "ebfd6338",
   "metadata": {},
   "outputs": [
    {
     "data": {
      "image/png": "[encoded data removed]",
      "text/plain": [
       "<Figure size 1000x600 with 1 Axes>"
      ]
     },
     "metadata": {},
     "output_type": "display_data"
    }
   ],
   "source": [
    "grafico_reclamos_solucionados(df, 'ocup')"
   ]
  },
  {
   "cell_type": "markdown",
   "id": "ef0acb5a",
   "metadata": {},
   "source": [
    "El gráfico muestra que la mayoría de los reclamos \"Completamente Solucionados\" provienen de personas asalariadas, con 726 casos. Les siguen jubilados/as (235 casos) y trabajadores/as por cuenta propia (229 casos). En contraste, los grupos con menos reclamos solucionados incluyen a quienes trabajan en roles no remunerados (41 casos) y desempleados/as (127 casos). Esto sugiere que la estabilidad laboral y el acceso a recursos podrían estar relacionados con la capacidad de resolver reclamos satisfactoriamente."
   ]
  },
  {
   "cell_type": "markdown",
   "id": "a678efe1",
   "metadata": {},
   "source": [
    "#### e.- Llamamos a la función con la variable edad:"
   ]
  },
  {
   "cell_type": "code",
   "execution_count": 27,
   "id": "77a5f03e",
   "metadata": {},
   "outputs": [
    {
     "data": {
      "image/png": "[encoded data removed]",
      "text/plain": [
       "<Figure size 1000x600 with 1 Axes>"
      ]
     },
     "metadata": {},
     "output_type": "display_data"
    }
   ],
   "source": [
    "grafico_reclamos_solucionados(df, 'edad')"
   ]
  },
  {
   "cell_type": "markdown",
   "id": "c1d5f263",
   "metadata": {},
   "source": [
    "El análisis de los reclamos \"Completamente Solucionados\" según la edad muestra que el grupo de 45 a 64 años es el que tiene la mayor cantidad de reclamos resueltos, con 701 casos. Le sigue el grupo de 30 a 44 años, con 609 casos, y el grupo de 65 años o más, con 252 casos. Por otro lado, el grupo más joven, 18 a 29 años, tiene la menor cantidad de reclamos solucionados, con 154 casos.\n",
    "\n",
    "Este patrón sugiere que los reclamos completamente solucionados tienden a concentrarse en las personas de mediana edad y mayores, mientras que los más jóvenes tienen una menor representación en estos resultados."
   ]
  },
  {
   "cell_type": "markdown",
   "id": "dfe566af",
   "metadata": {},
   "source": [
    "### 6.\tPara el mes en que se genera la mayor cantidad de reclamos, independiente si hay o no solución, muestre en forma ordenadas para cada género de mayor a menor la cantidad de reclamos realizada por clientes con nivel de estudios “Superior Universi-taria Completa” y compare esta cantidad con aquellos con nivel de estudios “Básica incompleta”, concluya a que puede asociar este resultado. (Ptj 2)"
   ]
  },
  {
   "cell_type": "markdown",
   "id": "f2c70117",
   "metadata": {},
   "source": [
    "#### Primero grafiquemos el mes con más reclamos, para ello importamos una librería adicional: \"calendar\""
   ]
  },
  {
   "cell_type": "code",
   "execution_count": 28,
   "id": "4ae17cbc",
   "metadata": {},
   "outputs": [
    {
     "data": {
      "image/png": "[encoded data removed]",
      "text/plain": [
       "<Figure size 1000x600 with 1 Axes>"
      ]
     },
     "metadata": {},
     "output_type": "display_data"
    }
   ],
   "source": [
    "import calendar\n",
    "\n",
    "# Contar la cantidad de reclamos por mes\n",
    "reclamos_por_mes = df['mes_reclamo'].value_counts()\n",
    "\n",
    "# Ordenar los resultados de mayor a menor\n",
    "reclamos_por_mes = reclamos_por_mes.sort_values(ascending=False)\n",
    "\n",
    "# Convertir los números de mes a nombres de mes\n",
    "reclamos_por_mes.index = reclamos_por_mes.index.map(lambda x: calendar.month_name[x])\n",
    "\n",
    "# Crear el gráfico de barras\n",
    "plt.figure(figsize=(10, 6))\n",
    "reclamos_por_mes.plot(kind='bar', color='skyblue')\n",
    "\n",
    "# Título y etiquetas del gráfico\n",
    "plt.title('Cantidad de Reclamos por Mes')\n",
    "plt.xlabel('Mes')\n",
    "plt.ylabel('Cantidad de Reclamos')\n",
    "\n",
    "# Mostrar los valores sobre las barras\n",
    "for index, value in enumerate(reclamos_por_mes):\n",
    "    plt.text(index, value, str(value), ha='center', va='bottom')\n",
    "\n",
    "# Mostrar el gráfico\n",
    "plt.show()"
   ]
  },
  {
   "cell_type": "markdown",
   "id": "53b8ef6a",
   "metadata": {},
   "source": [
    "Podemos apreciar que el mes con más reclamos es January(ing); Enero(esp), aún así en nuestra función buscaremos el mes con más reclamos."
   ]
  },
  {
   "cell_type": "markdown",
   "id": "ee6717b2",
   "metadata": {},
   "source": [
    "#### Definimos una función para ordenar los pasos y obtener lo requerido:"
   ]
  },
  {
   "cell_type": "code",
   "execution_count": 29,
   "id": "527bb1de",
   "metadata": {},
   "outputs": [],
   "source": [
    "def analizar_reclamos_por_nivel_educativo(df):\n",
    "    # Identificar el mes con la mayor cantidad de reclamos\n",
    "    mes_max_reclamos = df['mes_reclamo'].value_counts().idxmax()\n",
    "\n",
    "    # Filtrar los datos para ese mes específico\n",
    "    df_mes_max = df[df['mes_reclamo'] == mes_max_reclamos]\n",
    "\n",
    "    # Filtrar para el nivel educativo \"Superior Universitaria Completa\" y \"Básica incompleta\"\n",
    "    df_superior = df_mes_max[df_mes_max['educ'] == 'Superior universitaria completa.']\n",
    "    df_basica = df_mes_max[df_mes_max['educ'] == 'Básica incompleta.']\n",
    "\n",
    "    # Contar la cantidad de reclamos para cada género en ambos niveles educativos\n",
    "    reclamos_superior = df_superior.groupby('gen').size().sort_values(ascending=False)\n",
    "    reclamos_basica = df_basica.groupby('gen').size().sort_values(ascending=False)\n",
    "\n",
    "    # Mostrar los resultados\n",
    "    print(f\"Mes con mayor cantidad de reclamos: {mes_max_reclamos}\\n\")\n",
    "    \n",
    "    print(\"Cantidad de reclamos por género para clientes con 'Superior Universitaria Completa':\")\n",
    "    print(reclamos_superior)\n",
    "    print(\"\\nCantidad de reclamos por género para clientes con 'Básica incompleta':\")\n",
    "    print(reclamos_basica)"
   ]
  },
  {
   "cell_type": "markdown",
   "id": "34be9906",
   "metadata": {},
   "source": [
    "#### Llamamos a la función:"
   ]
  },
  {
   "cell_type": "code",
   "execution_count": 30,
   "id": "877f0688",
   "metadata": {},
   "outputs": [
    {
     "name": "stdout",
     "output_type": "stream",
     "text": [
      "Mes con mayor cantidad de reclamos: 1\n",
      "\n",
      "Cantidad de reclamos por género para clientes con 'Superior Universitaria Completa':\n",
      "gen\n",
      "Masculino     186\n",
      "Femenino      165\n",
      "Otro            4\n",
      "No binario      2\n",
      "dtype: int64\n",
      "\n",
      "Cantidad de reclamos por género para clientes con 'Básica incompleta':\n",
      "gen\n",
      "Femenino     2\n",
      "Masculino    2\n",
      "dtype: int64\n"
     ]
    }
   ],
   "source": [
    "analizar_reclamos_por_nivel_educativo(df)"
   ]
  },
  {
   "cell_type": "markdown",
   "id": "f26eb9cc",
   "metadata": {},
   "source": [
    "El análisis de los reclamos realizados en el mes con la mayor cantidad de casos (enero) revela diferencias significativas en la participación de los clientes según su nivel educativo y género. En particular, los clientes con nivel educativo \"Superior Universitaria Completa\" presentan un volumen mucho mayor de reclamos comparado con aquellos con \"Básica incompleta\".\n",
    "\n",
    "### Conclusión:\n",
    "\n",
    "Este resultado sugiere que las personas con un nivel educativo más alto, como aquellos con \"Superior Universitaria Completa\", son significativamente más propensas a presentar reclamos que aquellas con \"Básica incompleta\". Esto puede asociarse a varios factores:\n",
    "\n",
    "   **- Acceso a Recursos e Información:** Las personas con niveles educativos más altos probablemente tienen un mejor acceso a la información sobre cómo presentar reclamos, así como a los recursos necesarios para hacerlo. Esto puede incluir mayor familiaridad con procedimientos burocráticos, mejor acceso a plataformas digitales, y un mayor nivel de confianza en la efectividad de presentar un reclamo.\n",
    "\n",
    "   **- Percepción de Derechos:** Es posible que los individuos con un mayor nivel educativo estén más conscientes de sus derechos como consumidores y, por lo tanto, estén más inclinados a tomar acción cuando sienten que esos derechos no han sido respetados.\n",
    "\n",
    "   **- Diferencias en Necesidades y Expectativas:** Aquellos con un nivel educativo más alto pueden tener expectativas más altas sobre los productos o servicios que consumen, lo que podría llevar a un mayor número de reclamos cuando esas expectativas no se cumplen.\n",
    "\n",
    "   **- Perspectiva de Género:** Observamos que, aunque los hombres tienden a presentar un mayor número de reclamos en el nivel \"Superior Universitaria Completa\", esta diferencia no es tan marcada cuando se compara con las mujeres en el mismo nivel educativo (186 hombres frente a 165 mujeres). En contraparte, en el nivel \"Básica incompleta\", el número de reclamos es muy bajo transversalmente. Esto sugiere que, a niveles educativos más bajos, las barreras para presentar reclamos podrían ser similares entre géneros, pero a medida que el nivel educativo aumenta, es posible que tanto hombres como mujeres se sientan más empoderados para hacer valer sus derechos como consumidores, aunque los hombres todavía predominan ligeramente.\n",
    "\n",
    "#### En resumen, este análisis destaca la influencia del nivel educativo en la propensión a realizar reclamos; es decir, a mayor nivel educativo, mayor es la cantidad de reclamos (una correlación directa), con una distribución de género relativamente equilibrada."
   ]
  }
 ],
 "metadata": {
  "kernelspec": {
   "display_name": "Python 3 (ipykernel)",
   "language": "python",
   "name": "python3"
  },
  "language_info": {
   "codemirror_mode": {
    "name": "ipython",
    "version": 3
   },
   "file_extension": ".py",
   "mimetype": "text/x-python",
   "name": "python",
   "nbconvert_exporter": "python",
   "pygments_lexer": "ipython3",
   "version": "3.11.4"
  }
 },
 "nbformat": 4,
 "nbformat_minor": 5
}
